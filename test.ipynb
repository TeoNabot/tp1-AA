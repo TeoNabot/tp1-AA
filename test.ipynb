{
 "cells": [
  {
   "cell_type": "code",
   "execution_count": 5,
   "id": "d4f8e4c7",
   "metadata": {},
   "outputs": [],
   "source": [
    "import numpy as np\n",
    "import pandas as pd\n",
    "from sklearn.tree import DecisionTreeClassifier"
   ]
  },
  {
   "cell_type": "code",
   "execution_count": 6,
   "id": "baac51db",
   "metadata": {},
   "outputs": [],
   "source": [
    "def train_test(X, p=0.8):\n",
    "    np.random.shuffle(X)\n",
    "    cant = np.ceil(len(X) * p)\n",
    "    return X[:int(cant)], X[int(cant):]"
   ]
  },
  {
   "cell_type": "code",
   "execution_count": 7,
   "id": "bd9b1192",
   "metadata": {},
   "outputs": [
    {
     "name": "stdout",
     "output_type": "stream",
     "text": [
      "500 400 100\n"
     ]
    }
   ],
   "source": [
    "data = pd.read_csv('data.csv')\n",
    "train, test = train_test(data.to_numpy())\n",
    "X_train, y_train = train[:, :-1], train[:, -1]\n",
    "X_test, y_test = test[:, :-1], test[:, -1]\n",
    "\n",
    "print(len(data), len(train), len(test))"
   ]
  },
  {
   "cell_type": "code",
   "execution_count": null,
   "id": "c804bfa7",
   "metadata": {},
   "outputs": [
    {
     "name": "stdout",
     "output_type": "stream",
     "text": [
      "{'fit_time': array([0.03000093, 0.02900004, 0.0370028 , 0.02599859, 0.02599859]), 'score_time': array([0.00199652, 0.00099874, 0.0010004 , 0.00100017, 0.0010004 ]), 'test_score': array([0.675 , 0.7   , 0.7   , 0.5   , 0.6375])}\n",
      "Cross-validation scores (AUCROC): {'fit_time': array([0.02499819, 0.02604032, 0.02699828, 0.02599835, 0.02401662]), 'score_time': array([0.00200081, 0.00196242, 0.00203109, 0.00200129, 0.00199986]), 'test_score': array([0.61090909, 0.62909091, 0.57636364, 0.43803419, 0.5519943 ])}\n",
      "Cross-validation scores (AUPRC): {'fit_time': array([0.02699971, 0.02696705, 0.0290029 , 0.02899551, 0.02599907]), 'score_time': array([0.00100088, 0.00100493, 0.0040009 , 0.00100088, 0.00100064]), 'test_score': array([0.38543478, 0.40547619, 0.365     , 0.30738866, 0.35455466])}\n",
      "Cross-validation scores: {'fit_time': array([0.03000093, 0.02900004, 0.0370028 , 0.02599859, 0.02599859]), 'score_time': array([0.00199652, 0.00099874, 0.0010004 , 0.00100017, 0.0010004 ]), 'test_score': array([0.675 , 0.7   , 0.7   , 0.5   , 0.6375])}\n"
     ]
    },
    {
     "ename": "AttributeError",
     "evalue": "'dict' object has no attribute 'mean'",
     "output_type": "error",
     "traceback": [
      "\u001b[1;31m---------------------------------------------------------------------------\u001b[0m",
      "\u001b[1;31mAttributeError\u001b[0m                            Traceback (most recent call last)",
      "Cell \u001b[1;32mIn[9], line 21\u001b[0m\n\u001b[0;32m     19\u001b[0m \u001b[38;5;28mprint\u001b[39m(\u001b[38;5;124mf\u001b[39m\u001b[38;5;124m\"\u001b[39m\u001b[38;5;124mCross-validation scores: \u001b[39m\u001b[38;5;132;01m{\u001b[39;00mscores\u001b[38;5;132;01m}\u001b[39;00m\u001b[38;5;124m\"\u001b[39m)\n\u001b[0;32m     20\u001b[0m \u001b[38;5;66;03m# means\u001b[39;00m\n\u001b[1;32m---> 21\u001b[0m \u001b[38;5;28mprint\u001b[39m(\u001b[38;5;124mf\u001b[39m\u001b[38;5;124m\"\u001b[39m\u001b[38;5;124mCross-validation mean score: \u001b[39m\u001b[38;5;132;01m{\u001b[39;00m\u001b[43mscores\u001b[49m\u001b[38;5;241;43m.\u001b[39;49m\u001b[43mmean\u001b[49m()\u001b[38;5;132;01m}\u001b[39;00m\u001b[38;5;124m\"\u001b[39m)\n\u001b[0;32m     22\u001b[0m \u001b[38;5;28mprint\u001b[39m(\u001b[38;5;124mf\u001b[39m\u001b[38;5;124m\"\u001b[39m\u001b[38;5;124mCross-validation mean AUCROC score: \u001b[39m\u001b[38;5;132;01m{\u001b[39;00maucroc_scores\u001b[38;5;241m.\u001b[39mmean()\u001b[38;5;132;01m}\u001b[39;00m\u001b[38;5;124m\"\u001b[39m)\n\u001b[0;32m     23\u001b[0m \u001b[38;5;28mprint\u001b[39m(\u001b[38;5;124mf\u001b[39m\u001b[38;5;124m\"\u001b[39m\u001b[38;5;124mCross-validation mean AUPRC score: \u001b[39m\u001b[38;5;132;01m{\u001b[39;00mauprc_scores\u001b[38;5;241m.\u001b[39mmean()\u001b[38;5;132;01m}\u001b[39;00m\u001b[38;5;124m\"\u001b[39m)\n",
      "\u001b[1;31mAttributeError\u001b[0m: 'dict' object has no attribute 'mean'"
     ]
    }
   ],
   "source": [
    "# k-fold cross-validation\n",
    "from sklearn.model_selection import cross_val_score, cross_validate\n",
    "k = 5\n",
    "scores = cross_validate(DecisionTreeClassifier(max_depth=3), X_train, y_train, cv=k, return_train_score=True)\n",
    "print(scores)\n",
    "\n",
    "# cross val with AUCROC\n",
    "from sklearn.metrics import make_scorer, roc_auc_score\n",
    "aucroc_scorer = make_scorer(roc_auc_score)\n",
    "aucroc_scores = cross_validate(DecisionTreeClassifier(max_depth=3), X_train, y_train, cv=k, scoring=aucroc_scorer, return_train_score=True)\n",
    "\n",
    "# cross val with AUPRC\n",
    "from sklearn.metrics import average_precision_score\n",
    "auprc_scorer = make_scorer(average_precision_score)\n",
    "auprc_scores = cross_validate(DecisionTreeClassifier(max_depth=3), X_train, y_train, cv=k, scoring=auprc_scorer, return_train_score=True)\n",
    "\n",
    "print(f\"Cross-validation scores (AUCROC): {aucroc_scores}\")\n",
    "print(f\"Cross-validation scores (AUPRC): {auprc_scores}\")\n",
    "print(f\"Cross-validation scores: {scores}\")\n",
    "# means\n",
    "print(f\"Cross-validation mean score: {scores.mean()}\")\n",
    "print(f\"Cross-validation mean AUCROC score: {aucroc_scores.mean()}\")\n",
    "print(f\"Cross-validation mean AUPRC score: {auprc_scores.mean()}\")"
   ]
  },
  {
   "cell_type": "code",
   "execution_count": 14,
   "id": "1f1fd496",
   "metadata": {},
   "outputs": [
    {
     "name": "stdout",
     "output_type": "stream",
     "text": [
      "gini 3\n",
      "Train score: 0.8193750000000002, Val score 0.6449999999999999\n",
      "gini 5\n",
      "Train score: 0.9275, Val score 0.6525000000000001\n",
      "gini None\n",
      "Train score: 1.0, Val score 0.6075\n",
      "entropy 3\n",
      "Train score: 0.7918749999999999, Val score 0.64\n",
      "entropy 5\n",
      "Train score: 0.890625, Val score 0.655\n",
      "entropy None\n",
      "Train score: 1.0, Val score 0.6199999999999999\n"
     ]
    }
   ],
   "source": [
    "criterias = [\"gini\", \"entropy\"]\n",
    "alturas = [3, 5, None]\n",
    "\n",
    "for criteria in criterias:\n",
    "    for h in alturas:\n",
    "        res = cross_validate(DecisionTreeClassifier(max_depth=h, criterion=criteria), X_train, y_train, cv=k, return_train_score=True)\n",
    "        print(criteria, h)\n",
    "        print(f'Train score: {res[\"train_score\"].mean()}, Val score {res[\"test_score\"].mean()}')\n"
   ]
  },
  {
   "cell_type": "markdown",
   "id": "039fceb4",
   "metadata": {},
   "source": [
    "Al dejar altura infinita, overfittea (un poco). No hay casi diferencia entre Gini y entropia\n"
   ]
  },
  {
   "cell_type": "code",
   "execution_count": null,
   "id": "57367989",
   "metadata": {},
   "outputs": [
    {
     "name": "stdout",
     "output_type": "stream",
     "text": [
      "(320, 200) (320,)\n",
      "(320, 200) (320,)\n",
      "(320, 200) (320,)\n",
      "(320, 200) (320,)\n",
      "(320, 200) (320,)\n",
      "Cross-validation scores (custom): [[0.66454545 0.54761905]\n",
      " [0.79415954 0.5       ]\n",
      " [0.72213895 0.49820789]\n",
      " [0.81317702 0.52909091]\n",
      " [0.79041488 0.61942175]]\n",
      "Cross-validation mean score (custom): [0.75688717 0.53886792]\n"
     ]
    }
   ],
   "source": []
  },
  {
   "cell_type": "markdown",
   "id": "6d25d44b",
   "metadata": {},
   "source": []
  },
  {
   "cell_type": "code",
   "execution_count": null,
   "id": "d3b92006",
   "metadata": {},
   "outputs": [],
   "source": []
  }
 ],
 "metadata": {
  "kernelspec": {
   "display_name": "Python 3",
   "language": "python",
   "name": "python3"
  },
  "language_info": {
   "codemirror_mode": {
    "name": "ipython",
    "version": 3
   },
   "file_extension": ".py",
   "mimetype": "text/x-python",
   "name": "python",
   "nbconvert_exporter": "python",
   "pygments_lexer": "ipython3",
   "version": "3.10.4"
  }
 },
 "nbformat": 4,
 "nbformat_minor": 5
}
