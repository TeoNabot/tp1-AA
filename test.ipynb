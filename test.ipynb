{
 "cells": [
  {
   "cell_type": "code",
   "execution_count": null,
   "id": "d4f8e4c7",
   "metadata": {},
   "outputs": [],
   "source": [
    "import numpy as np\n",
    "import pandas as pd\n"
   ]
  },
  {
   "cell_type": "code",
   "execution_count": 7,
   "id": "baac51db",
   "metadata": {},
   "outputs": [],
   "source": [
    "def train_test(X, p=0.8):\n",
    "    np.random.shuffle(X)\n",
    "    cant = np.ceil(len(X) * p)\n",
    "    return X[:int(cant)], X[int(cant):]"
   ]
  },
  {
   "cell_type": "code",
   "execution_count": null,
   "id": "bd9b1192",
   "metadata": {},
   "outputs": [
    {
     "data": {
      "text/plain": [
       "0.0    289\n",
       "1.0    111\n",
       "dtype: int64"
      ]
     },
     "execution_count": 31,
     "metadata": {},
     "output_type": "execute_result"
    }
   ],
   "source": [
    "data = pd.read_csv('data.csv')\n",
    "train, test = train_test(data.to_numpy())\n",
    "X_train, y_train = train[:, :-1], train[:, -1]\n",
    "X_test, y_test = test[:, :-1], test[:, -1]"
   ]
  },
  {
   "cell_type": "markdown",
   "id": "f55d0b58",
   "metadata": {},
   "source": [
    "Ejercicio 2"
   ]
  },
  {
   "cell_type": "markdown",
   "id": "e1d559b8",
   "metadata": {},
   "source": [
    "2.1."
   ]
  },
  {
   "cell_type": "code",
   "execution_count": 23,
   "id": "73d98866",
   "metadata": {},
   "outputs": [],
   "source": [
    "from sklearn.tree import DecisionTreeClassifier\n",
    "arbol = DecisionTreeClassifier(max_depth=3)"
   ]
  },
  {
   "cell_type": "markdown",
   "id": "9429da81",
   "metadata": {},
   "source": [
    "2.2."
   ]
  },
  {
   "cell_type": "code",
   "execution_count": 24,
   "id": "c804bfa7",
   "metadata": {},
   "outputs": [
    {
     "data": {
      "text/html": [
       "<div>\n",
       "<style scoped>\n",
       "    .dataframe tbody tr th:only-of-type {\n",
       "        vertical-align: middle;\n",
       "    }\n",
       "\n",
       "    .dataframe tbody tr th {\n",
       "        vertical-align: top;\n",
       "    }\n",
       "\n",
       "    .dataframe thead th {\n",
       "        text-align: right;\n",
       "    }\n",
       "</style>\n",
       "<table border=\"1\" class=\"dataframe\">\n",
       "  <thead>\n",
       "    <tr style=\"text-align: right;\">\n",
       "      <th></th>\n",
       "      <th>Permutation</th>\n",
       "      <th>Accuracy Train</th>\n",
       "      <th>Accuracy Val</th>\n",
       "      <th>AUCROC Train</th>\n",
       "      <th>AUCROC Test</th>\n",
       "      <th>AUPRC Train</th>\n",
       "      <th>AUPRC Test</th>\n",
       "    </tr>\n",
       "  </thead>\n",
       "  <tbody>\n",
       "    <tr>\n",
       "      <th>0</th>\n",
       "      <td>1.0</td>\n",
       "      <td>0.803125</td>\n",
       "      <td>0.6625</td>\n",
       "      <td>0.787765</td>\n",
       "      <td>0.639881</td>\n",
       "      <td>0.571992</td>\n",
       "      <td>0.388441</td>\n",
       "    </tr>\n",
       "    <tr>\n",
       "      <th>1</th>\n",
       "      <td>2.0</td>\n",
       "      <td>0.825000</td>\n",
       "      <td>0.6750</td>\n",
       "      <td>0.764569</td>\n",
       "      <td>0.586310</td>\n",
       "      <td>0.594130</td>\n",
       "      <td>0.356863</td>\n",
       "    </tr>\n",
       "    <tr>\n",
       "      <th>2</th>\n",
       "      <td>3.0</td>\n",
       "      <td>0.843750</td>\n",
       "      <td>0.6125</td>\n",
       "      <td>0.779095</td>\n",
       "      <td>0.509091</td>\n",
       "      <td>0.628954</td>\n",
       "      <td>0.312500</td>\n",
       "    </tr>\n",
       "    <tr>\n",
       "      <th>3</th>\n",
       "      <td>4.0</td>\n",
       "      <td>0.796875</td>\n",
       "      <td>0.6625</td>\n",
       "      <td>0.719664</td>\n",
       "      <td>0.558182</td>\n",
       "      <td>0.531525</td>\n",
       "      <td>0.355667</td>\n",
       "    </tr>\n",
       "    <tr>\n",
       "      <th>4</th>\n",
       "      <td>5.0</td>\n",
       "      <td>0.781250</td>\n",
       "      <td>0.6500</td>\n",
       "      <td>0.651407</td>\n",
       "      <td>0.516364</td>\n",
       "      <td>0.497790</td>\n",
       "      <td>0.320682</td>\n",
       "    </tr>\n",
       "    <tr>\n",
       "      <th>5</th>\n",
       "      <td>PROMEDIOS</td>\n",
       "      <td>0.810000</td>\n",
       "      <td>0.6525</td>\n",
       "      <td>0.740500</td>\n",
       "      <td>0.561965</td>\n",
       "      <td>0.564878</td>\n",
       "      <td>0.346830</td>\n",
       "    </tr>\n",
       "  </tbody>\n",
       "</table>\n",
       "</div>"
      ],
      "text/plain": [
       "  Permutation  Accuracy Train  Accuracy Val  AUCROC Train  AUCROC Test  \\\n",
       "0         1.0        0.803125        0.6625      0.787765     0.639881   \n",
       "1         2.0        0.825000        0.6750      0.764569     0.586310   \n",
       "2         3.0        0.843750        0.6125      0.779095     0.509091   \n",
       "3         4.0        0.796875        0.6625      0.719664     0.558182   \n",
       "4         5.0        0.781250        0.6500      0.651407     0.516364   \n",
       "5   PROMEDIOS        0.810000        0.6525      0.740500     0.561965   \n",
       "\n",
       "   AUPRC Train  AUPRC Test  \n",
       "0     0.571992    0.388441  \n",
       "1     0.594130    0.356863  \n",
       "2     0.628954    0.312500  \n",
       "3     0.531525    0.355667  \n",
       "4     0.497790    0.320682  \n",
       "5     0.564878    0.346830  "
      ]
     },
     "execution_count": 24,
     "metadata": {},
     "output_type": "execute_result"
    }
   ],
   "source": [
    "# usamos cross_validate porque permite obtener el error en train\n",
    "from sklearn.model_selection import cross_validate\n",
    "\n",
    "results = pd.DataFrame(np.nan, index=range(6), columns=['Permutation', 'Accuracy Train', 'Accuracy Val', 'AUCROC Train', 'AUCROC Test', 'AUPRC Train', 'AUPRC Test'])\n",
    "\n",
    "#cross val con accuracy\n",
    "k = 5\n",
    "accuracy_scores = cross_validate(arbol, X_train, y_train, cv=k, return_train_score=True)\n",
    "accuracy_train_score, accuracy_test_score = accuracy_scores['train_score'], accuracy_scores['test_score']\n",
    "\n",
    "# cross val con AUCROC\n",
    "from sklearn.metrics import make_scorer, roc_auc_score, average_precision_score\n",
    "aucroc_scorer = make_scorer(roc_auc_score)\n",
    "aucroc_scores = cross_validate(arbol, X_train, y_train, cv=k, scoring=aucroc_scorer, return_train_score=True)\n",
    "aucroc_train_score, aucroc_test_score = aucroc_scores['train_score'], aucroc_scores['test_score']\n",
    "\n",
    "# cross val con AUPRC\n",
    "auprc_scorer = make_scorer(average_precision_score)\n",
    "auprc_scores = cross_validate(arbol, X_train, y_train, cv=k, scoring=auprc_scorer, return_train_score=True)\n",
    "auprc_train_score, auprc_test_score = auprc_scores['train_score'], auprc_scores['test_score']\n",
    "\n",
    "for i in range(0, 5):\n",
    "    results.loc[i] = np.array([int(i+1), accuracy_train_score[i], accuracy_test_score[i], aucroc_train_score[i], aucroc_test_score[i], auprc_train_score[i], auprc_test_score[i]])\n",
    "\n",
    "results.loc[5] = [\"PROMEDIOS\", accuracy_train_score.mean(), accuracy_test_score.mean(), aucroc_train_score.mean(), aucroc_test_score.mean(), auprc_train_score.mean(), auprc_test_score.mean()]\n",
    "results\n",
    "#AGREGAR SCORE GLOBAL ¿¿"
   ]
  },
  {
   "cell_type": "markdown",
   "id": "5da2e18d",
   "metadata": {},
   "source": [
    "2.3."
   ]
  },
  {
   "cell_type": "code",
   "execution_count": 29,
   "id": "1f1fd496",
   "metadata": {},
   "outputs": [
    {
     "data": {
      "text/html": [
       "<div>\n",
       "<style scoped>\n",
       "    .dataframe tbody tr th:only-of-type {\n",
       "        vertical-align: middle;\n",
       "    }\n",
       "\n",
       "    .dataframe tbody tr th {\n",
       "        vertical-align: top;\n",
       "    }\n",
       "\n",
       "    .dataframe thead th {\n",
       "        text-align: right;\n",
       "    }\n",
       "</style>\n",
       "<table border=\"1\" class=\"dataframe\">\n",
       "  <thead>\n",
       "    <tr style=\"text-align: right;\">\n",
       "      <th></th>\n",
       "      <th>Altura máxima</th>\n",
       "      <th>Criterio de corte</th>\n",
       "      <th>Accuracy Train</th>\n",
       "      <th>Accuracy Val</th>\n",
       "    </tr>\n",
       "  </thead>\n",
       "  <tbody>\n",
       "    <tr>\n",
       "      <th>0</th>\n",
       "      <td>3.0</td>\n",
       "      <td>gini</td>\n",
       "      <td>0.810000</td>\n",
       "      <td>0.6600</td>\n",
       "    </tr>\n",
       "    <tr>\n",
       "      <th>1</th>\n",
       "      <td>5.0</td>\n",
       "      <td>gini</td>\n",
       "      <td>0.927500</td>\n",
       "      <td>0.6225</td>\n",
       "    </tr>\n",
       "    <tr>\n",
       "      <th>2</th>\n",
       "      <td>INF</td>\n",
       "      <td>gini</td>\n",
       "      <td>1.000000</td>\n",
       "      <td>0.6350</td>\n",
       "    </tr>\n",
       "    <tr>\n",
       "      <th>3</th>\n",
       "      <td>3</td>\n",
       "      <td>entropy</td>\n",
       "      <td>0.766250</td>\n",
       "      <td>0.6125</td>\n",
       "    </tr>\n",
       "    <tr>\n",
       "      <th>4</th>\n",
       "      <td>5</td>\n",
       "      <td>entropy</td>\n",
       "      <td>0.873125</td>\n",
       "      <td>0.6450</td>\n",
       "    </tr>\n",
       "    <tr>\n",
       "      <th>5</th>\n",
       "      <td>INF</td>\n",
       "      <td>entropy</td>\n",
       "      <td>1.000000</td>\n",
       "      <td>0.6225</td>\n",
       "    </tr>\n",
       "  </tbody>\n",
       "</table>\n",
       "</div>"
      ],
      "text/plain": [
       "  Altura máxima Criterio de corte  Accuracy Train  Accuracy Val\n",
       "0           3.0              gini        0.810000        0.6600\n",
       "1           5.0              gini        0.927500        0.6225\n",
       "2           INF              gini        1.000000        0.6350\n",
       "3             3           entropy        0.766250        0.6125\n",
       "4             5           entropy        0.873125        0.6450\n",
       "5           INF           entropy        1.000000        0.6225"
      ]
     },
     "execution_count": 29,
     "metadata": {},
     "output_type": "execute_result"
    }
   ],
   "source": [
    "criterios = [\"gini\", \"entropy\"]\n",
    "alturas = [3, 5, None]\n",
    "\n",
    "grid = pd.DataFrame(np.nan, index=range(6), columns = ['Altura máxima', 'Criterio de corte', 'Accuracy Train', 'Accuracy Val'])\n",
    "\n",
    "i = 0\n",
    "for criterio in criterios:\n",
    "    for h in alturas:\n",
    "        res = cross_validate(DecisionTreeClassifier(max_depth=h, criterion=criterio), X_train, y_train, cv=k, return_train_score=True)\n",
    "        if h:\n",
    "            grid.loc[i] = [h, criterio, res[\"train_score\"].mean(), res[\"test_score\"].mean()]\n",
    "        else:\n",
    "            grid.loc[i] = ['INF', criterio, res[\"train_score\"].mean(), res[\"test_score\"].mean()]\n",
    "        i+=1\n",
    "        \n",
    "grid"
   ]
  },
  {
   "cell_type": "markdown",
   "id": "d7386467",
   "metadata": {},
   "source": [
    "2.4."
   ]
  },
  {
   "cell_type": "markdown",
   "id": "039fceb4",
   "metadata": {},
   "source": [
    "Observando la primera tabla, vemos que existe una diferencia importante entre los resultados para distintas métricas. En particular, al usar Cross Validation con accuracy se obtienen mejores resultados que con AUCROC y, sobre todo, al comparar accuracy con AUPRC. Esta diferencia en rendimiento podría deberse a un desbalanceo entre clases, especialmente si consideramos el contexto de nuestro problema: debería ser más probable que alguien no esté enfermo que que sí. Efectivamente, podemos comprobar que existe un desbalanceo entre clases; particularmente, hay un preponderancia de la clase negativa por sobre la positiva.\n"
   ]
  },
  {
   "cell_type": "code",
   "execution_count": 33,
   "id": "5d880652",
   "metadata": {},
   "outputs": [
    {
     "data": {
      "text/plain": [
       "0.0    289\n",
       "1.0    111\n",
       "dtype: int64"
      ]
     },
     "execution_count": 33,
     "metadata": {},
     "output_type": "execute_result"
    }
   ],
   "source": [
    "pd.Series(y_train).value_counts()"
   ]
  },
  {
   "cell_type": "markdown",
   "id": "309270c6",
   "metadata": {},
   "source": [
    " Al dejar altura infinita, overfittea (un poco). No hay casi diferencia entre Gini y entropia"
   ]
  },
  {
   "cell_type": "code",
   "execution_count": null,
   "id": "57367989",
   "metadata": {},
   "outputs": [
    {
     "name": "stdout",
     "output_type": "stream",
     "text": [
      "(320, 200) (320,)\n",
      "(320, 200) (320,)\n",
      "(320, 200) (320,)\n",
      "(320, 200) (320,)\n",
      "(320, 200) (320,)\n",
      "Cross-validation scores (custom): [[0.66454545 0.54761905]\n",
      " [0.79415954 0.5       ]\n",
      " [0.72213895 0.49820789]\n",
      " [0.81317702 0.52909091]\n",
      " [0.79041488 0.61942175]]\n",
      "Cross-validation mean score (custom): [0.75688717 0.53886792]\n"
     ]
    }
   ],
   "source": []
  },
  {
   "cell_type": "markdown",
   "id": "6d25d44b",
   "metadata": {},
   "source": []
  },
  {
   "cell_type": "code",
   "execution_count": null,
   "id": "d3b92006",
   "metadata": {},
   "outputs": [],
   "source": []
  }
 ],
 "metadata": {
  "kernelspec": {
   "display_name": "Python 3",
   "language": "python",
   "name": "python3"
  },
  "language_info": {
   "codemirror_mode": {
    "name": "ipython",
    "version": 3
   },
   "file_extension": ".py",
   "mimetype": "text/x-python",
   "name": "python",
   "nbconvert_exporter": "python",
   "pygments_lexer": "ipython3",
   "version": "3.10.4"
  }
 },
 "nbformat": 4,
 "nbformat_minor": 5
}
